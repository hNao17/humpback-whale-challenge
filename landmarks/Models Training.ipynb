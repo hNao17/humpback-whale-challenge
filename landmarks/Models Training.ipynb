{
 "cells": [
  {
   "cell_type": "code",
   "execution_count": 1,
   "metadata": {},
   "outputs": [],
   "source": [
    "import os\n",
    "import json\n",
    "\n",
    "from image_utils import *\n",
    "\n",
    "# Ignore warnings\n",
    "import warnings\n",
    "warnings.filterwarnings(\"ignore\")\n",
    "\n",
    "%matplotlib inline"
   ]
  },
  {
   "cell_type": "markdown",
   "metadata": {},
   "source": [
    "# Data"
   ]
  },
  {
   "cell_type": "code",
   "execution_count": 2,
   "metadata": {},
   "outputs": [],
   "source": [
    "IMAGE_DIR = 'data/train/'\n",
    "with open('./data/train/annotations.json') as json_data:\n",
    "    data = json.load(json_data)"
   ]
  },
  {
   "cell_type": "markdown",
   "metadata": {},
   "source": [
    "## Generators"
   ]
  },
  {
   "cell_type": "markdown",
   "metadata": {},
   "source": [
    "### Load Data"
   ]
  },
  {
   "cell_type": "code",
   "execution_count": 3,
   "metadata": {},
   "outputs": [
    {
     "name": "stderr",
     "output_type": "stream",
     "text": [
      "Using TensorFlow backend.\n",
      "/Library/Frameworks/Python.framework/Versions/3.6/lib/python3.6/importlib/_bootstrap.py:219: RuntimeWarning: compiletime version 3.5 of module 'tensorflow.python.framework.fast_tensor_util' does not match runtime version 3.6\n",
      "  return f(*args, **kwds)\n"
     ]
    }
   ],
   "source": [
    "from whale_mask_generator import WhaleMaskGenerator"
   ]
  },
  {
   "cell_type": "code",
   "execution_count": 4,
   "metadata": {},
   "outputs": [],
   "source": [
    "train_generator = WhaleMaskGenerator(IMAGE_DIR, data, 4)"
   ]
  },
  {
   "cell_type": "markdown",
   "metadata": {},
   "source": [
    "# Test Runner"
   ]
  },
  {
   "cell_type": "code",
   "execution_count": 5,
   "metadata": {},
   "outputs": [],
   "source": [
    "def run_test(H, W, model):\n",
    "    pass"
   ]
  },
  {
   "cell_type": "markdown",
   "metadata": {},
   "source": [
    "# Training"
   ]
  },
  {
   "cell_type": "code",
   "execution_count": 6,
   "metadata": {},
   "outputs": [],
   "source": [
    "from keras.models import Model, Sequential\n",
    "from keras.layers import Input, Dropout, Flatten, Conv2D, MaxPool2D, Conv2DTranspose\n",
    "from keras.layers import Activation, BatchNormalization, concatenate\n",
    "from keras.optimizers import Adam, RMSprop, SGD\n",
    "from keras.callbacks import ModelCheckpoint, Callback\n",
    "from keras import applications\n",
    "import keras.backend as K\n",
    "import tensorflow as tf\n",
    "\n",
    "from tensorboard_logger import TensorBoardLogger"
   ]
  },
  {
   "cell_type": "markdown",
   "metadata": {},
   "source": [
    "# Losses and Metrics"
   ]
  },
  {
   "cell_type": "code",
   "execution_count": 7,
   "metadata": {},
   "outputs": [],
   "source": [
    "def dice_coef(y_true, y_pred):\n",
    "    smooth = 1.\n",
    "    y_true_f = K.flatten(y_true)\n",
    "    y_pred_f = K.flatten(y_pred)\n",
    "    intersection = K.sum(y_true_f * y_pred_f)\n",
    "    return (2. * intersection + smooth) / (K.sum(y_true_f) + K.sum(y_pred_f) + smooth)\n",
    "\n",
    "def jaccard(y_true, y_pred, threshold=0.5, axis=(1, 2, 3), smooth=1e-5): \n",
    "        pre = tf.cast(y_pred > threshold, dtype=tf.float32)\n",
    "        truth = tf.cast(y_true > threshold, dtype=tf.float32)\n",
    "        inse = tf.reduce_sum(tf.multiply(pre, truth), axis=axis)  # AND\n",
    "        union = tf.reduce_sum(tf.cast(tf.add(pre, truth) >= 1, dtype=tf.float32), axis=axis)  # OR\n",
    "        batch_iou = (inse + smooth) / (union + smooth)\n",
    "        iou = tf.reduce_mean(batch_iou)\n",
    "        return iou\n",
    "\n",
    "def dice_coef_loss(y_true, y_pred):\n",
    "    return 1 - dice_coef(y_true, y_pred)\n",
    "\n",
    "def jacckard_loss(y_true, y_pred):\n",
    "    return 1 - jaccard(y_true, y_pred)"
   ]
  },
  {
   "cell_type": "markdown",
   "metadata": {},
   "source": [
    "## SimpleNet"
   ]
  },
  {
   "cell_type": "code",
   "execution_count": 14,
   "metadata": {},
   "outputs": [],
   "source": [
    "def create_simplenet(H, W, C):\n",
    "    def conv_block(in_layer, filters, activation='relu'):\n",
    "        x = Conv2D(filters, kernel_size=3, activation=activation, padding='same')(in_layer)\n",
    "        x = BatchNormalization()(x)\n",
    "        return x\n",
    "\n",
    "    inputs = Input((H, W, C))\n",
    "    \n",
    "    x = conv_block(inputs, 32)\n",
    "    x = conv_block(x, 32)\n",
    "    x = conv_block(x, 64)\n",
    "    x = conv_block(x, 64)\n",
    "    x = conv_block(x, 128)\n",
    "    x = conv_block(x, 128)\n",
    "    x = conv_block(x, 256)\n",
    "    x = conv_block(x, 256)\n",
    "    x = conv_block(x, 256)\n",
    "    \n",
    "    out = Conv2D(4, kernel_size=3, activation='sigmoid', padding='same')(x)\n",
    "    \n",
    "    model = Model(inputs=inputs, outputs=out)\n",
    "    model.compile(optimizer=Adam(lr=1e-5), loss=dice_coef_loss, metrics=[dice_coef, jaccard, 'accuracy'])\n",
    "\n",
    "    return model"
   ]
  },
  {
   "cell_type": "markdown",
   "metadata": {},
   "source": [
    "### Find Learning Rate"
   ]
  },
  {
   "cell_type": "code",
   "execution_count": 15,
   "metadata": {},
   "outputs": [],
   "source": [
    "H, W = 224, 224"
   ]
  },
  {
   "cell_type": "code",
   "execution_count": null,
   "metadata": {},
   "outputs": [
    {
     "name": "stdout",
     "output_type": "stream",
     "text": [
      "_________________________________________________________________\n",
      "Layer (type)                 Output Shape              Param #   \n",
      "=================================================================\n",
      "input_3 (InputLayer)         (None, 224, 224, 1)       0         \n",
      "_________________________________________________________________\n",
      "conv2d_21 (Conv2D)           (None, 224, 224, 32)      320       \n",
      "_________________________________________________________________\n",
      "batch_normalization_19 (Batc (None, 224, 224, 32)      128       \n",
      "_________________________________________________________________\n",
      "conv2d_22 (Conv2D)           (None, 224, 224, 32)      9248      \n",
      "_________________________________________________________________\n",
      "batch_normalization_20 (Batc (None, 224, 224, 32)      128       \n",
      "_________________________________________________________________\n",
      "conv2d_23 (Conv2D)           (None, 224, 224, 64)      18496     \n",
      "_________________________________________________________________\n",
      "batch_normalization_21 (Batc (None, 224, 224, 64)      256       \n",
      "_________________________________________________________________\n",
      "conv2d_24 (Conv2D)           (None, 224, 224, 64)      36928     \n",
      "_________________________________________________________________\n",
      "batch_normalization_22 (Batc (None, 224, 224, 64)      256       \n",
      "_________________________________________________________________\n",
      "conv2d_25 (Conv2D)           (None, 224, 224, 128)     73856     \n",
      "_________________________________________________________________\n",
      "batch_normalization_23 (Batc (None, 224, 224, 128)     512       \n",
      "_________________________________________________________________\n",
      "conv2d_26 (Conv2D)           (None, 224, 224, 128)     147584    \n",
      "_________________________________________________________________\n",
      "batch_normalization_24 (Batc (None, 224, 224, 128)     512       \n",
      "_________________________________________________________________\n",
      "conv2d_27 (Conv2D)           (None, 224, 224, 256)     295168    \n",
      "_________________________________________________________________\n",
      "batch_normalization_25 (Batc (None, 224, 224, 256)     1024      \n",
      "_________________________________________________________________\n",
      "conv2d_28 (Conv2D)           (None, 224, 224, 256)     590080    \n",
      "_________________________________________________________________\n",
      "batch_normalization_26 (Batc (None, 224, 224, 256)     1024      \n",
      "_________________________________________________________________\n",
      "conv2d_29 (Conv2D)           (None, 224, 224, 256)     590080    \n",
      "_________________________________________________________________\n",
      "batch_normalization_27 (Batc (None, 224, 224, 256)     1024      \n",
      "_________________________________________________________________\n",
      "conv2d_30 (Conv2D)           (None, 224, 224, 4)       9220      \n",
      "=================================================================\n",
      "Total params: 1,775,844\n",
      "Trainable params: 1,773,412\n",
      "Non-trainable params: 2,432\n",
      "_________________________________________________________________\n"
     ]
    }
   ],
   "source": [
    "model = create_simplenet(H, W, 1)\n",
    "model.summary()"
   ]
  },
  {
   "cell_type": "code",
   "execution_count": null,
   "metadata": {},
   "outputs": [
    {
     "name": "stdout",
     "output_type": "stream",
     "text": [
      "Learning Rate: 1e-06\n",
      "Epoch 1/1\n"
     ]
    },
    {
     "name": "stderr",
     "output_type": "stream",
     "text": [
      "/Library/Frameworks/Python.framework/Versions/3.6/lib/python3.6/site-packages/skimage/transform/_warps.py:84: UserWarning: The default mode, 'constant', will be changed to 'reflect' in skimage 0.15.\n",
      "  warn(\"The default mode, 'constant', will be changed to 'reflect' in \"\n"
     ]
    }
   ],
   "source": [
    "lrs = [1e-6, 1e-5, 1e-4, 1e-3, 1e-2]\n",
    "for lr in lrs:\n",
    "    print(f'Learning Rate: {lr}')\n",
    "    K.set_value(model.optimizer.lr, lr)\n",
    "    model.fit_generator(\n",
    "        train_generator,\n",
    "        steps_per_epoch=100,\n",
    "        epochs=1\n",
    "    )"
   ]
  },
  {
   "cell_type": "markdown",
   "metadata": {},
   "source": [
    "### Train!"
   ]
  },
  {
   "cell_type": "code",
   "execution_count": null,
   "metadata": {},
   "outputs": [],
   "source": [
    "model = create_simplenet(H, W, 3)\n",
    "tensorboard = TensorBoardLogger(log_name='Simple-64')"
   ]
  },
  {
   "cell_type": "code",
   "execution_count": null,
   "metadata": {},
   "outputs": [],
   "source": [
    "# model.load_weights('checkpoints/simplenet.h5')"
   ]
  },
  {
   "cell_type": "code",
   "execution_count": null,
   "metadata": {},
   "outputs": [],
   "source": [
    "fit_args = dict(\n",
    "    generator=train_generator,\n",
    "    steps_per_epoch=200,\n",
    "    callbacks=[tensorboard],\n",
    "    validation_data=val_generator,\n",
    "    validation_steps=100,\n",
    "    workers=6,\n",
    "    epochs=10,\n",
    ")"
   ]
  },
  {
   "cell_type": "code",
   "execution_count": null,
   "metadata": {},
   "outputs": [],
   "source": [
    "K.set_value(model.optimizer.lr, 1e-5)"
   ]
  },
  {
   "cell_type": "code",
   "execution_count": null,
   "metadata": {},
   "outputs": [],
   "source": [
    "fit_args['epochs'] = 2\n",
    "model.fit_generator(**fit_args)"
   ]
  },
  {
   "cell_type": "code",
   "execution_count": null,
   "metadata": {},
   "outputs": [],
   "source": [
    "model.save_weights('checkpoints/simplenet.h5')"
   ]
  },
  {
   "cell_type": "code",
   "execution_count": null,
   "metadata": {
    "scrolled": true
   },
   "outputs": [],
   "source": [
    "run_test(H, W, model)"
   ]
  },
  {
   "cell_type": "markdown",
   "metadata": {},
   "source": [
    "## Pre-Trained Model"
   ]
  },
  {
   "cell_type": "code",
   "execution_count": null,
   "metadata": {},
   "outputs": [],
   "source": [
    "def create_pretrained_model(base='ResNet50'):\n",
    "    def upsample(in_layer, nout):\n",
    "        x = Conv2DTranspose(nout, kernel_size=2, strides=2, activation='relu')(in_layer)\n",
    "        x = BatchNormalization()(x)\n",
    "        return x\n",
    "    \n",
    "    if base == 'VGG16':\n",
    "        base = applications.vgg16.VGG16(\n",
    "                include_top=False, \n",
    "                weights='imagenet', \n",
    "                pooling=None,\n",
    "                input_shape=(H, W, 3),)\n",
    "        for layer in base.layers[:5]:\n",
    "            layer.trainable = False\n",
    "    elif base == 'ResNet50':\n",
    "        base = applications.resnet50.ResNet50(\n",
    "                include_top=False, \n",
    "                weights='imagenet', \n",
    "                pooling=None,\n",
    "                input_shape=(H, W, 3),)\n",
    "        for layer in base.layers:\n",
    "            layer.trainable = False\n",
    "#         base.layers.pop()\n",
    "#         base.output = [base.layers[-1].output]\n",
    "    \n",
    "    x = base.layers[-3].output\n",
    "    x = upsample(x, 256)\n",
    "    x = upsample(x, 256)\n",
    "    x = upsample(x, 256)\n",
    "#     x = upsample(x, 256)\n",
    "    out = Conv2DTranspose(1, kernel_size=2, strides=2, activation='sigmoid')(x)\n",
    "    \n",
    "    model = Model(inputs=base.input, outputs=out)\n",
    "    \n",
    "    optimizer = Adam(lr=1e-4)\n",
    "    \n",
    "    model.compile(optimizer=optimizer, loss='binary_crossentropy', metrics=[dice_coef, jaccard, 'accuracy'])\n",
    "    \n",
    "    return model"
   ]
  },
  {
   "cell_type": "code",
   "execution_count": null,
   "metadata": {},
   "outputs": [],
   "source": [
    "BS, H, W = 8, 224, 224\n",
    "train_generator, val_generator = dl.get_train_val_generators(batch_size=BS, height=H, width=W)"
   ]
  },
  {
   "cell_type": "code",
   "execution_count": null,
   "metadata": {},
   "outputs": [],
   "source": [
    "model = create_pretrained_model(base='VGG16')\n",
    "model.summary()"
   ]
  },
  {
   "cell_type": "code",
   "execution_count": null,
   "metadata": {},
   "outputs": [],
   "source": [
    "lrs = [1e-6, 1e-5, 1e-4, 1e-3, 1e-2]\n",
    "for lr in lrs:\n",
    "    print(f'Learning Rate: {lr}')\n",
    "    K.set_value(model.optimizer.lr, lr)\n",
    "    model.fit_generator(\n",
    "        train_generator,\n",
    "        steps_per_epoch=200,\n",
    "        epochs=1\n",
    "    )"
   ]
  },
  {
   "cell_type": "code",
   "execution_count": null,
   "metadata": {},
   "outputs": [],
   "source": [
    "model = create_pretrained_model(base='VGG16')\n",
    "tensorboard = TensorBoardLogger(log_name='VGG-224')"
   ]
  },
  {
   "cell_type": "code",
   "execution_count": null,
   "metadata": {},
   "outputs": [],
   "source": [
    "model.load_weights('checkpoints/VGG-224')"
   ]
  },
  {
   "cell_type": "code",
   "execution_count": null,
   "metadata": {},
   "outputs": [],
   "source": [
    "fit_args = dict(\n",
    "    generator=train_generator,\n",
    "    steps_per_epoch=200,\n",
    "    callbacks=[tensorboard],\n",
    "    validation_data=val_generator,\n",
    "    validation_steps=100,\n",
    "    workers=6,\n",
    "    epochs=2,\n",
    ")"
   ]
  },
  {
   "cell_type": "code",
   "execution_count": null,
   "metadata": {},
   "outputs": [],
   "source": [
    "K.set_value(model.optimizer.lr, 1e-5)"
   ]
  },
  {
   "cell_type": "code",
   "execution_count": null,
   "metadata": {},
   "outputs": [],
   "source": [
    "model.fit_generator(**fit_args)"
   ]
  },
  {
   "cell_type": "code",
   "execution_count": null,
   "metadata": {},
   "outputs": [],
   "source": [
    "model.save_weights('checkpoints/VGG-224')"
   ]
  },
  {
   "cell_type": "code",
   "execution_count": null,
   "metadata": {},
   "outputs": [],
   "source": [
    "run_test(H, W, model)"
   ]
  },
  {
   "cell_type": "markdown",
   "metadata": {},
   "source": [
    "## UNET"
   ]
  },
  {
   "cell_type": "code",
   "execution_count": null,
   "metadata": {},
   "outputs": [],
   "source": [
    "def get_unet(H, W, C):\n",
    "    def conv_block(in_layer, filters, pooling=True):\n",
    "        x = Conv2D(filters, (3, 3), activation='relu', padding='same')(in_layer)\n",
    "        x = Conv2D(filters, (3, 3), activation='relu', padding='same')(x)\n",
    "        mp = MaxPool2D(pool_size=(2, 2))(x) if pooling else None\n",
    "        return x, mp\n",
    "    \n",
    "    def up_block(in_layer, conv_layer, filters):\n",
    "        x = Conv2DTranspose(filters, (2, 2), strides=(2, 2), padding='same')(in_layer)\n",
    "        x = concatenate([x, conv_layer], axis=3)\n",
    "        x = Conv2D(filters, (3, 3), activation='relu', padding='same')(x)\n",
    "        x = Conv2D(filters, (3, 3), activation='relu', padding='same')(x)\n",
    "        return x\n",
    "    \n",
    "    inputs = Input((H, W, C))\n",
    "    \n",
    "    c1, mp = conv_block(inputs, 32)\n",
    "    c2, mp = conv_block(mp, 64)\n",
    "    c3, mp = conv_block(mp, 128)\n",
    "    c4, mp = conv_block(mp, 256)\n",
    "    c5, _ = conv_block(mp, 512, pooling=False)\n",
    "    \n",
    "    x = up_block(c5, c4, 256)\n",
    "    x = up_block(x, c3, 128)\n",
    "    x = up_block(x, c2, 64)\n",
    "    x = up_block(x, c1, 32)\n",
    "    \n",
    "    out = Conv2D(1, (1, 1), activation='sigmoid')(x)\n",
    "    \n",
    "    model = Model(inputs=inputs, outputs=out)\n",
    "    model.compile(optimizer=Adam(lr=1e-5), loss=dice_coef_loss, metrics=[dice_coef, jaccard, 'accuracy'])\n",
    "\n",
    "    return model"
   ]
  },
  {
   "cell_type": "code",
   "execution_count": null,
   "metadata": {},
   "outputs": [],
   "source": [
    "BS, H, W = 16, 64, 64\n",
    "train_generator, val_generator = dl.get_train_val_generators(batch_size=BS, height=H, width=W)"
   ]
  },
  {
   "cell_type": "code",
   "execution_count": null,
   "metadata": {},
   "outputs": [],
   "source": [
    "model = get_unet(H, W, 3)\n",
    "model.summary()"
   ]
  },
  {
   "cell_type": "code",
   "execution_count": null,
   "metadata": {},
   "outputs": [],
   "source": [
    "lrs = [1e-6, 1e-5, 1e-4, 1e-3, 1e-2]\n",
    "for lr in lrs:\n",
    "    print(f'Learning Rate: {lr}')\n",
    "    K.set_value(model.optimizer.lr, lr)\n",
    "    model.fit_generator(\n",
    "        train_generator,\n",
    "        steps_per_epoch=100,\n",
    "        epochs=1\n",
    "    )"
   ]
  },
  {
   "cell_type": "code",
   "execution_count": null,
   "metadata": {},
   "outputs": [],
   "source": [
    "model = get_unet(H, W, 3)\n",
    "tensorboard = TensorBoardLogger(log_name='UNET-64')"
   ]
  },
  {
   "cell_type": "code",
   "execution_count": null,
   "metadata": {},
   "outputs": [],
   "source": [
    "model.load_weights('checkpoints/unet-64.h5')"
   ]
  },
  {
   "cell_type": "code",
   "execution_count": null,
   "metadata": {},
   "outputs": [],
   "source": [
    "K.set_value(model.optimizer.lr, 2e-5)"
   ]
  },
  {
   "cell_type": "code",
   "execution_count": null,
   "metadata": {},
   "outputs": [],
   "source": [
    "fit_args = dict(\n",
    "    generator=train_generator,\n",
    "    steps_per_epoch=200,\n",
    "    callbacks=[tensorboard],\n",
    "    validation_data=val_generator,\n",
    "    validation_steps=100,\n",
    "    workers=6,\n",
    "    epochs=2,\n",
    ")"
   ]
  },
  {
   "cell_type": "code",
   "execution_count": null,
   "metadata": {},
   "outputs": [],
   "source": [
    "model.fit_generator(**fit_args)"
   ]
  },
  {
   "cell_type": "code",
   "execution_count": null,
   "metadata": {},
   "outputs": [],
   "source": [
    "model.save_weights('checkpoints/unet-64.h5')"
   ]
  },
  {
   "cell_type": "code",
   "execution_count": null,
   "metadata": {},
   "outputs": [],
   "source": [
    "run_test(H, W, model)"
   ]
  },
  {
   "cell_type": "code",
   "execution_count": null,
   "metadata": {},
   "outputs": [],
   "source": []
  }
 ],
 "metadata": {
  "kernelspec": {
   "display_name": "Python 3",
   "language": "python",
   "name": "python3"
  },
  "language_info": {
   "codemirror_mode": {
    "name": "ipython",
    "version": 3
   },
   "file_extension": ".py",
   "mimetype": "text/x-python",
   "name": "python",
   "nbconvert_exporter": "python",
   "pygments_lexer": "ipython3",
   "version": "3.6.3"
  }
 },
 "nbformat": 4,
 "nbformat_minor": 2
}
