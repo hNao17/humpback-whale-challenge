{
 "cells": [
  {
   "cell_type": "code",
   "execution_count": 1,
   "metadata": {
    "collapsed": true
   },
   "outputs": [],
   "source": [
    "import os\n",
    "import json\n",
    "import random\n",
    "\n",
    "# Ignore warnings\n",
    "import warnings\n",
    "warnings.filterwarnings(\"ignore\")\n",
    "\n",
    "%matplotlib inline"
   ]
  },
  {
   "cell_type": "code",
   "execution_count": 57,
   "metadata": {
    "collapsed": true
   },
   "outputs": [],
   "source": [
    "def show_mask(image, mask, title='', ax=None):\n",
    "    if ax is None: fig, ax = plt.subplots()\n",
    "    plt.imshow(image, cmap='gray')\n",
    "    plt.imshow(mask, alpha=0.5)\n",
    "    ax.set_title(title)\n",
    "    ax.axis('off')\n",
    "    return ax"
   ]
  },
  {
   "cell_type": "code",
   "execution_count": 115,
   "metadata": {
    "collapsed": true
   },
   "outputs": [],
   "source": [
    "def show_landmarks(image, landmarks, title='', ax=None):\n",
    "    \"\"\"Show image with landmarks.\"\"\"\n",
    "    if ax is None: fig, ax = plt.subplots()\n",
    "    plt.imshow(image, cmap='gray')\n",
    "    plt.scatter(landmarks[:, 1], landmarks[:, 0], s=70, marker='.', c='red')\n",
    "    ax.set_title(title)\n",
    "    ax.axis('off')\n",
    "    return ax"
   ]
  },
  {
   "cell_type": "markdown",
   "metadata": {},
   "source": [
    "# Data"
   ]
  },
  {
   "cell_type": "markdown",
   "metadata": {},
   "source": [
    "## Load JSON"
   ]
  },
  {
   "cell_type": "code",
   "execution_count": 2,
   "metadata": {},
   "outputs": [],
   "source": [
    "IMAGE_DIR = '../data/train/'\n",
    "with open('../data/train/annotations.json') as json_data:\n",
    "    data = json.load(json_data)"
   ]
  },
  {
   "cell_type": "markdown",
   "metadata": {},
   "source": [
    "## Split Into Training/Val"
   ]
  },
  {
   "cell_type": "code",
   "execution_count": 3,
   "metadata": {
    "collapsed": true
   },
   "outputs": [],
   "source": [
    "train_ratio = 0.9"
   ]
  },
  {
   "cell_type": "code",
   "execution_count": 4,
   "metadata": {},
   "outputs": [
    {
     "name": "stdout",
     "output_type": "stream",
     "text": [
      "Train Samples: 275, Val Samples: 30\n"
     ]
    }
   ],
   "source": [
    "keys = list(data.keys())\n",
    "random.shuffle(keys)\n",
    "cutoff =int(train_ratio * len(keys))\n",
    "\n",
    "train_data = {k: data[k] for k in keys[:cutoff] if len(data[k]) == 4}\n",
    "val_data = {k: data[k] for k in keys[cutoff:] if len(data[k]) == 4}\n",
    "\n",
    "print(f'Train Samples: {len(train_data)}, Val Samples: {len(val_data)}')"
   ]
  },
  {
   "cell_type": "markdown",
   "metadata": {},
   "source": [
    "# Test Runner"
   ]
  },
  {
   "cell_type": "code",
   "execution_count": 35,
   "metadata": {},
   "outputs": [],
   "source": [
    "import numpy as np\n",
    "import matplotlib.pyplot as plt"
   ]
  },
  {
   "cell_type": "code",
   "execution_count": 117,
   "metadata": {
    "collapsed": true
   },
   "outputs": [],
   "source": [
    "def run_test(model):\n",
    "    batch = train_generator[0]\n",
    "\n",
    "    images, gts = batch\n",
    "\n",
    "    idx = 7\n",
    "\n",
    "    sample = images[idx]\n",
    "    gt = gts[idx]\n",
    "    gt = np.reshape(gt, (-1, H, W, 4))\n",
    "\n",
    "    out = model.predict(sample[np.newaxis, :,])\n",
    "    out = np.reshape(out, (-1, H, W, 4))\n",
    "    \n",
    "    titles = ['top_left', 'top_middle', 'top_right', 'bottom_middle']\n",
    "\n",
    "    fig = plt.figure(figsize=(16, 8))\n",
    "    for i in range(4):\n",
    "        ax = plt.subplot(3, 4, i + 1)\n",
    "        show_mask(sample[:,:,0], out[0,:,:,i], title=titles[i], ax=ax)\n",
    "    \n",
    "    for i in range(4):\n",
    "        ax = plt.subplot(3, 4, 4 + i + 1)\n",
    "        lm = np.array([np.unravel_index(np.argmax(out[0,:,:,i]), out[0,:,:,i].shape)])\n",
    "        show_landmarks(sample[:,:,0], lm, title=titles[i], ax=ax)\n",
    "        \n",
    "        ax = plt.subplot(3, 4, 8 + i + 1)\n",
    "        lm = np.array([np.unravel_index(np.argmax(gt[0,:,:,i]), gt[0,:,:,i].shape)])\n",
    "        show_landmarks(sample[:,:,0], lm, title=titles[i], ax=ax)\n",
    "\n",
    "    plt.show()"
   ]
  },
  {
   "cell_type": "markdown",
   "metadata": {},
   "source": [
    "# Training"
   ]
  },
  {
   "cell_type": "code",
   "execution_count": 9,
   "metadata": {
    "collapsed": true
   },
   "outputs": [],
   "source": [
    "from keras.models import Model, Sequential\n",
    "from keras.layers import Input, Dropout, Flatten, Conv2D, MaxPool2D, Conv2DTranspose, Reshape\n",
    "from keras.layers import Activation, BatchNormalization, concatenate\n",
    "from keras.optimizers import Adam, RMSprop, SGD\n",
    "from keras.callbacks import ModelCheckpoint, Callback\n",
    "from keras import applications\n",
    "import keras.backend as K\n",
    "import tensorflow as tf\n",
    "\n",
    "from tensorboard_logger import TensorBoardLogger"
   ]
  },
  {
   "cell_type": "markdown",
   "metadata": {},
   "source": [
    "# Losses and Metrics"
   ]
  },
  {
   "cell_type": "code",
   "execution_count": 10,
   "metadata": {
    "collapsed": true
   },
   "outputs": [],
   "source": [
    "def dice_coef(y_true, y_pred):\n",
    "    smooth = 1.\n",
    "    y_true_f = K.flatten(y_true)\n",
    "    y_pred_f = K.flatten(y_pred)\n",
    "    intersection = K.sum(y_true_f * y_pred_f)\n",
    "    return (2. * intersection + smooth) / (K.sum(y_true_f) + K.sum(y_pred_f) + smooth)\n",
    "\n",
    "def jaccard(y_true, y_pred, threshold=0.5, axis=(1, 2, 3), smooth=1e-5): \n",
    "        pre = tf.cast(y_pred > threshold, dtype=tf.float32)\n",
    "        truth = tf.cast(y_true > threshold, dtype=tf.float32)\n",
    "        inse = tf.reduce_sum(tf.multiply(pre, truth), axis=axis)  # AND\n",
    "        union = tf.reduce_sum(tf.cast(tf.add(pre, truth) >= 1, dtype=tf.float32), axis=axis)  # OR\n",
    "        batch_iou = (inse + smooth) / (union + smooth)\n",
    "        iou = tf.reduce_mean(batch_iou)\n",
    "        return iou\n",
    "\n",
    "def dice_coef_loss(y_true, y_pred):\n",
    "    return 1 - dice_coef(y_true, y_pred)\n",
    "\n",
    "def jacckard_loss(y_true, y_pred):\n",
    "    return 1 - jaccard(y_true, y_pred)"
   ]
  },
  {
   "cell_type": "markdown",
   "metadata": {},
   "source": [
    "# UNET Softmax (Mask R-CNN Style)"
   ]
  },
  {
   "cell_type": "markdown",
   "metadata": {},
   "source": [
    "## Generators"
   ]
  },
  {
   "cell_type": "markdown",
   "metadata": {},
   "source": [
    "### Load Data"
   ]
  },
  {
   "cell_type": "code",
   "execution_count": 5,
   "metadata": {},
   "outputs": [
    {
     "name": "stderr",
     "output_type": "stream",
     "text": [
      "Using TensorFlow backend.\n"
     ]
    }
   ],
   "source": [
    "from whale_mask_generator import WhaleMaskGenerator"
   ]
  },
  {
   "cell_type": "code",
   "execution_count": 6,
   "metadata": {
    "collapsed": true
   },
   "outputs": [],
   "source": [
    "H, W = 32, 32\n",
    "batch_size = 12"
   ]
  },
  {
   "cell_type": "code",
   "execution_count": 7,
   "metadata": {},
   "outputs": [],
   "source": [
    "train_generator = WhaleMaskGenerator(IMAGE_DIR, train_data, 4, dim=(H, W), batch_size=batch_size, sigma=0, make_2d_masks=True)\n",
    "val_generator = WhaleMaskGenerator(IMAGE_DIR, val_data, 4, dim=(H, W), batch_size=batch_size, sigma=0, make_2d_masks=True)"
   ]
  },
  {
   "cell_type": "markdown",
   "metadata": {},
   "source": [
    "## Model"
   ]
  },
  {
   "cell_type": "code",
   "execution_count": 11,
   "metadata": {
    "collapsed": true
   },
   "outputs": [],
   "source": [
    "def get_unet_sm(H, W, C):\n",
    "    def conv_block(in_layer, filters, pooling=True):\n",
    "        x = Conv2D(filters, (3, 3), activation='relu', padding='same')(in_layer)\n",
    "        x = Conv2D(filters, (3, 3), activation='relu', padding='same')(x)\n",
    "        mp = MaxPool2D(pool_size=(2, 2))(x) if pooling else None\n",
    "        return x, mp\n",
    "    \n",
    "    def up_block(in_layer, conv_layer, filters):\n",
    "        x = Conv2DTranspose(filters, (2, 2), strides=(2, 2), padding='same')(in_layer)\n",
    "        x = concatenate([x, conv_layer], axis=3)\n",
    "        x = Conv2D(filters, (3, 3), activation='relu', padding='same')(x)\n",
    "        x = Conv2D(filters, (3, 3), activation='relu', padding='same')(x)\n",
    "        return x\n",
    "    \n",
    "    inputs = Input((H, W, C))\n",
    "    \n",
    "    c1, mp = conv_block(inputs, 32)\n",
    "    c2, mp = conv_block(mp, 64)\n",
    "    c3, mp = conv_block(mp, 128)\n",
    "    c4, mp = conv_block(mp, 256)\n",
    "    c5, _ = conv_block(mp, 512, pooling=False)\n",
    "    \n",
    "    x = up_block(c5, c4, 256)\n",
    "    x = up_block(x, c3, 128)\n",
    "    x = up_block(x, c2, 64)\n",
    "    x = up_block(x, c1, 32)\n",
    "    x = Conv2D(4, (1, 1))(x)\n",
    "    x = Reshape((H * W, 4))(x)\n",
    "    out = Activation('softmax')(x)\n",
    "    \n",
    "    model = Model(inputs=inputs, outputs=out)\n",
    "    model.compile(optimizer=Adam(lr=1e-5), loss='categorical_crossentropy', metrics=['accuracy'])\n",
    "\n",
    "    return model"
   ]
  },
  {
   "cell_type": "code",
   "execution_count": 12,
   "metadata": {},
   "outputs": [
    {
     "name": "stdout",
     "output_type": "stream",
     "text": [
      "(1024, 4)\n"
     ]
    }
   ],
   "source": [
    "batch = train_generator[0]\n",
    "ims, masks = batch\n",
    "print(masks[0].shape)"
   ]
  },
  {
   "cell_type": "code",
   "execution_count": 13,
   "metadata": {
    "scrolled": true
   },
   "outputs": [
    {
     "name": "stdout",
     "output_type": "stream",
     "text": [
      "__________________________________________________________________________________________________\n",
      "Layer (type)                    Output Shape         Param #     Connected to                     \n",
      "==================================================================================================\n",
      "input_1 (InputLayer)            (None, 32, 32, 1)    0                                            \n",
      "__________________________________________________________________________________________________\n",
      "conv2d_1 (Conv2D)               (None, 32, 32, 32)   320         input_1[0][0]                    \n",
      "__________________________________________________________________________________________________\n",
      "conv2d_2 (Conv2D)               (None, 32, 32, 32)   9248        conv2d_1[0][0]                   \n",
      "__________________________________________________________________________________________________\n",
      "max_pooling2d_1 (MaxPooling2D)  (None, 16, 16, 32)   0           conv2d_2[0][0]                   \n",
      "__________________________________________________________________________________________________\n",
      "conv2d_3 (Conv2D)               (None, 16, 16, 64)   18496       max_pooling2d_1[0][0]            \n",
      "__________________________________________________________________________________________________\n",
      "conv2d_4 (Conv2D)               (None, 16, 16, 64)   36928       conv2d_3[0][0]                   \n",
      "__________________________________________________________________________________________________\n",
      "max_pooling2d_2 (MaxPooling2D)  (None, 8, 8, 64)     0           conv2d_4[0][0]                   \n",
      "__________________________________________________________________________________________________\n",
      "conv2d_5 (Conv2D)               (None, 8, 8, 128)    73856       max_pooling2d_2[0][0]            \n",
      "__________________________________________________________________________________________________\n",
      "conv2d_6 (Conv2D)               (None, 8, 8, 128)    147584      conv2d_5[0][0]                   \n",
      "__________________________________________________________________________________________________\n",
      "max_pooling2d_3 (MaxPooling2D)  (None, 4, 4, 128)    0           conv2d_6[0][0]                   \n",
      "__________________________________________________________________________________________________\n",
      "conv2d_7 (Conv2D)               (None, 4, 4, 256)    295168      max_pooling2d_3[0][0]            \n",
      "__________________________________________________________________________________________________\n",
      "conv2d_8 (Conv2D)               (None, 4, 4, 256)    590080      conv2d_7[0][0]                   \n",
      "__________________________________________________________________________________________________\n",
      "max_pooling2d_4 (MaxPooling2D)  (None, 2, 2, 256)    0           conv2d_8[0][0]                   \n",
      "__________________________________________________________________________________________________\n",
      "conv2d_9 (Conv2D)               (None, 2, 2, 512)    1180160     max_pooling2d_4[0][0]            \n",
      "__________________________________________________________________________________________________\n",
      "conv2d_10 (Conv2D)              (None, 2, 2, 512)    2359808     conv2d_9[0][0]                   \n",
      "__________________________________________________________________________________________________\n",
      "conv2d_transpose_1 (Conv2DTrans (None, 4, 4, 256)    524544      conv2d_10[0][0]                  \n",
      "__________________________________________________________________________________________________\n",
      "concatenate_1 (Concatenate)     (None, 4, 4, 512)    0           conv2d_transpose_1[0][0]         \n",
      "                                                                 conv2d_8[0][0]                   \n",
      "__________________________________________________________________________________________________\n",
      "conv2d_11 (Conv2D)              (None, 4, 4, 256)    1179904     concatenate_1[0][0]              \n",
      "__________________________________________________________________________________________________\n",
      "conv2d_12 (Conv2D)              (None, 4, 4, 256)    590080      conv2d_11[0][0]                  \n",
      "__________________________________________________________________________________________________\n",
      "conv2d_transpose_2 (Conv2DTrans (None, 8, 8, 128)    131200      conv2d_12[0][0]                  \n",
      "__________________________________________________________________________________________________\n",
      "concatenate_2 (Concatenate)     (None, 8, 8, 256)    0           conv2d_transpose_2[0][0]         \n",
      "                                                                 conv2d_6[0][0]                   \n",
      "__________________________________________________________________________________________________\n",
      "conv2d_13 (Conv2D)              (None, 8, 8, 128)    295040      concatenate_2[0][0]              \n",
      "__________________________________________________________________________________________________\n",
      "conv2d_14 (Conv2D)              (None, 8, 8, 128)    147584      conv2d_13[0][0]                  \n",
      "__________________________________________________________________________________________________\n",
      "conv2d_transpose_3 (Conv2DTrans (None, 16, 16, 64)   32832       conv2d_14[0][0]                  \n",
      "__________________________________________________________________________________________________\n",
      "concatenate_3 (Concatenate)     (None, 16, 16, 128)  0           conv2d_transpose_3[0][0]         \n",
      "                                                                 conv2d_4[0][0]                   \n",
      "__________________________________________________________________________________________________\n",
      "conv2d_15 (Conv2D)              (None, 16, 16, 64)   73792       concatenate_3[0][0]              \n",
      "__________________________________________________________________________________________________\n",
      "conv2d_16 (Conv2D)              (None, 16, 16, 64)   36928       conv2d_15[0][0]                  \n",
      "__________________________________________________________________________________________________\n",
      "conv2d_transpose_4 (Conv2DTrans (None, 32, 32, 32)   8224        conv2d_16[0][0]                  \n",
      "__________________________________________________________________________________________________\n",
      "concatenate_4 (Concatenate)     (None, 32, 32, 64)   0           conv2d_transpose_4[0][0]         \n",
      "                                                                 conv2d_2[0][0]                   \n",
      "__________________________________________________________________________________________________\n",
      "conv2d_17 (Conv2D)              (None, 32, 32, 32)   18464       concatenate_4[0][0]              \n",
      "__________________________________________________________________________________________________\n",
      "conv2d_18 (Conv2D)              (None, 32, 32, 32)   9248        conv2d_17[0][0]                  \n",
      "__________________________________________________________________________________________________\n",
      "conv2d_19 (Conv2D)              (None, 32, 32, 4)    132         conv2d_18[0][0]                  \n",
      "__________________________________________________________________________________________________\n",
      "reshape_1 (Reshape)             (None, 1024, 4)      0           conv2d_19[0][0]                  \n",
      "__________________________________________________________________________________________________\n",
      "activation_1 (Activation)       (None, 1024, 4)      0           reshape_1[0][0]                  \n",
      "==================================================================================================\n",
      "Total params: 7,759,620\n",
      "Trainable params: 7,759,620\n",
      "Non-trainable params: 0\n",
      "__________________________________________________________________________________________________\n"
     ]
    }
   ],
   "source": [
    "model = get_unet_sm(H, W, 1)\n",
    "model.summary()"
   ]
  },
  {
   "cell_type": "code",
   "execution_count": 15,
   "metadata": {
    "scrolled": true
   },
   "outputs": [
    {
     "name": "stdout",
     "output_type": "stream",
     "text": [
      "Learning Rate: 1e-06\n",
      "Epoch 1/1\n",
      "30/30 [==============================] - 10s 347ms/step - loss: 0.0054 - acc: 0.6519\n",
      "Learning Rate: 1e-05\n",
      "Epoch 1/1\n",
      "30/30 [==============================] - 10s 343ms/step - loss: 0.0054 - acc: 0.1636\n",
      "Learning Rate: 0.0001\n",
      "Epoch 1/1\n",
      "30/30 [==============================] - 11s 354ms/step - loss: 0.0054 - acc: 0.1029\n",
      "Learning Rate: 0.001\n",
      "Epoch 1/1\n",
      "30/30 [==============================] - 11s 357ms/step - loss: 0.0039 - acc: 0.1407\n",
      "Learning Rate: 0.01\n",
      "Epoch 1/1\n",
      "30/30 [==============================] - 11s 375ms/step - loss: 0.0436 - acc: 0.9230\n"
     ]
    }
   ],
   "source": [
    "lrs = [1e-6, 1e-5, 1e-4, 1e-3, 1e-2]\n",
    "for lr in lrs:\n",
    "    print(f'Learning Rate: {lr}')\n",
    "    K.set_value(model.optimizer.lr, lr)\n",
    "    model.fit_generator(\n",
    "        train_generator,\n",
    "        steps_per_epoch=30,\n",
    "        epochs=1\n",
    "    )"
   ]
  },
  {
   "cell_type": "code",
   "execution_count": 29,
   "metadata": {},
   "outputs": [],
   "source": [
    "model = get_unet_sm(H, W, 1)\n",
    "tensorboard = TensorBoardLogger(log_name='UNET-64')"
   ]
  },
  {
   "cell_type": "code",
   "execution_count": 30,
   "metadata": {
    "collapsed": true
   },
   "outputs": [],
   "source": [
    "K.set_value(model.optimizer.lr, 1e-3)"
   ]
  },
  {
   "cell_type": "code",
   "execution_count": 31,
   "metadata": {
    "collapsed": true
   },
   "outputs": [],
   "source": [
    "fit_args = dict(\n",
    "    generator=train_generator,\n",
    "    steps_per_epoch=100,\n",
    "    callbacks=[tensorboard],\n",
    "    validation_data=val_generator,\n",
    "    validation_steps=50,\n",
    "    workers=6,\n",
    "    epochs=1,\n",
    ")"
   ]
  },
  {
   "cell_type": "code",
   "execution_count": 125,
   "metadata": {
    "scrolled": true
   },
   "outputs": [
    {
     "name": "stdout",
     "output_type": "stream",
     "text": [
      "Epoch 1/1\n",
      "100/100 [==============================] - 26s 260ms/step - loss: 6.2341e-04 - acc: 0.3181 - val_loss: 9.9328e-04 - val_acc: 0.3170\n"
     ]
    },
    {
     "data": {
      "text/plain": [
       "<keras.callbacks.History at 0x7f1bd5a5ccf8>"
      ]
     },
     "execution_count": 125,
     "metadata": {},
     "output_type": "execute_result"
    }
   ],
   "source": [
    "model.fit_generator(**fit_args)"
   ]
  },
  {
   "cell_type": "code",
   "execution_count": null,
   "metadata": {
    "collapsed": true
   },
   "outputs": [],
   "source": [
    "model.save_weights('checkpoints/unet-sm-32.h5')"
   ]
  },
  {
   "cell_type": "code",
   "execution_count": 126,
   "metadata": {},
   "outputs": [
    {
     "data": {
      "image/png": "[encoded data removed]",
      "text/plain": [
       "<matplotlib.figure.Figure at 0x7f1b723a0828>"
      ]
     },
     "metadata": {},
     "output_type": "display_data"
    }
   ],
   "source": [
    "run_test(model)"
   ]
  },
  {
   "cell_type": "markdown",
   "metadata": {},
   "source": [
    "# UNET"
   ]
  },
  {
   "cell_type": "markdown",
   "metadata": {},
   "source": [
    "## Generators"
   ]
  },
  {
   "cell_type": "markdown",
   "metadata": {},
   "source": [
    "### Load Data"
   ]
  },
  {
   "cell_type": "code",
   "execution_count": 5,
   "metadata": {},
   "outputs": [
    {
     "name": "stderr",
     "output_type": "stream",
     "text": [
      "Using TensorFlow backend.\n"
     ]
    }
   ],
   "source": [
    "from whale_mask_generator import WhaleMaskGenerator"
   ]
  },
  {
   "cell_type": "code",
   "execution_count": 6,
   "metadata": {
    "collapsed": true
   },
   "outputs": [],
   "source": [
    "H, W = 32, 32\n",
    "batch_size = 12"
   ]
  },
  {
   "cell_type": "code",
   "execution_count": 130,
   "metadata": {
    "collapsed": true
   },
   "outputs": [],
   "source": [
    "train_generator = WhaleMaskGenerator(IMAGE_DIR, train_data, 4, dim=(H, W), batch_size=batch_size, sigma=1)\n",
    "val_generator = WhaleMaskGenerator(IMAGE_DIR, val_data, 4, dim=(H, W), batch_size=batch_size, sigma=0)"
   ]
  },
  {
   "cell_type": "markdown",
   "metadata": {},
   "source": [
    "## Model"
   ]
  },
  {
   "cell_type": "code",
   "execution_count": 131,
   "metadata": {
    "collapsed": true
   },
   "outputs": [],
   "source": [
    "def get_unet(H, W, C):\n",
    "    def conv_block(in_layer, filters, pooling=True):\n",
    "        x = Conv2D(filters, (3, 3), activation='relu', padding='same')(in_layer)\n",
    "        x = Conv2D(filters, (3, 3), activation='relu', padding='same')(x)\n",
    "        mp = MaxPool2D(pool_size=(2, 2))(x) if pooling else None\n",
    "        return x, mp\n",
    "    \n",
    "    def up_block(in_layer, conv_layer, filters):\n",
    "        x = Conv2DTranspose(filters, (2, 2), strides=(2, 2), padding='same')(in_layer)\n",
    "        x = concatenate([x, conv_layer], axis=3)\n",
    "        x = Conv2D(filters, (3, 3), activation='relu', padding='same')(x)\n",
    "        x = Conv2D(filters, (3, 3), activation='relu', padding='same')(x)\n",
    "        return x\n",
    "    \n",
    "    inputs = Input((H, W, C))\n",
    "    \n",
    "    c1, mp = conv_block(inputs, 32)\n",
    "    c2, mp = conv_block(mp, 64)\n",
    "    c3, mp = conv_block(mp, 128)\n",
    "    c4, mp = conv_block(mp, 256)\n",
    "    c5, _ = conv_block(mp, 512, pooling=False)\n",
    "    \n",
    "    x = up_block(c5, c4, 256)\n",
    "    x = up_block(x, c3, 128)\n",
    "    x = up_block(x, c2, 64)\n",
    "    x = up_block(x, c1, 32)\n",
    "    \n",
    "    out = Conv2D(4, (1, 1), activation='sigmoid')(x)\n",
    "    \n",
    "    model = Model(inputs=inputs, outputs=out)\n",
    "    model.compile(optimizer=Adam(lr=1e-5), loss='binary_crossentropy', metrics=[dice_coef, jaccard, 'accuracy'])\n",
    "\n",
    "    return model"
   ]
  },
  {
   "cell_type": "code",
   "execution_count": 132,
   "metadata": {
    "scrolled": true
   },
   "outputs": [
    {
     "name": "stdout",
     "output_type": "stream",
     "text": [
      "__________________________________________________________________________________________________\n",
      "Layer (type)                    Output Shape         Param #     Connected to                     \n",
      "==================================================================================================\n",
      "input_5 (InputLayer)            (None, 32, 32, 1)    0                                            \n",
      "__________________________________________________________________________________________________\n",
      "conv2d_77 (Conv2D)              (None, 32, 32, 32)   320         input_5[0][0]                    \n",
      "__________________________________________________________________________________________________\n",
      "conv2d_78 (Conv2D)              (None, 32, 32, 32)   9248        conv2d_77[0][0]                  \n",
      "__________________________________________________________________________________________________\n",
      "max_pooling2d_17 (MaxPooling2D) (None, 16, 16, 32)   0           conv2d_78[0][0]                  \n",
      "__________________________________________________________________________________________________\n",
      "conv2d_79 (Conv2D)              (None, 16, 16, 64)   18496       max_pooling2d_17[0][0]           \n",
      "__________________________________________________________________________________________________\n",
      "conv2d_80 (Conv2D)              (None, 16, 16, 64)   36928       conv2d_79[0][0]                  \n",
      "__________________________________________________________________________________________________\n",
      "max_pooling2d_18 (MaxPooling2D) (None, 8, 8, 64)     0           conv2d_80[0][0]                  \n",
      "__________________________________________________________________________________________________\n",
      "conv2d_81 (Conv2D)              (None, 8, 8, 128)    73856       max_pooling2d_18[0][0]           \n",
      "__________________________________________________________________________________________________\n",
      "conv2d_82 (Conv2D)              (None, 8, 8, 128)    147584      conv2d_81[0][0]                  \n",
      "__________________________________________________________________________________________________\n",
      "max_pooling2d_19 (MaxPooling2D) (None, 4, 4, 128)    0           conv2d_82[0][0]                  \n",
      "__________________________________________________________________________________________________\n",
      "conv2d_83 (Conv2D)              (None, 4, 4, 256)    295168      max_pooling2d_19[0][0]           \n",
      "__________________________________________________________________________________________________\n",
      "conv2d_84 (Conv2D)              (None, 4, 4, 256)    590080      conv2d_83[0][0]                  \n",
      "__________________________________________________________________________________________________\n",
      "max_pooling2d_20 (MaxPooling2D) (None, 2, 2, 256)    0           conv2d_84[0][0]                  \n",
      "__________________________________________________________________________________________________\n",
      "conv2d_85 (Conv2D)              (None, 2, 2, 512)    1180160     max_pooling2d_20[0][0]           \n",
      "__________________________________________________________________________________________________\n",
      "conv2d_86 (Conv2D)              (None, 2, 2, 512)    2359808     conv2d_85[0][0]                  \n",
      "__________________________________________________________________________________________________\n",
      "conv2d_transpose_17 (Conv2DTran (None, 4, 4, 256)    524544      conv2d_86[0][0]                  \n",
      "__________________________________________________________________________________________________\n",
      "concatenate_17 (Concatenate)    (None, 4, 4, 512)    0           conv2d_transpose_17[0][0]        \n",
      "                                                                 conv2d_84[0][0]                  \n",
      "__________________________________________________________________________________________________\n",
      "conv2d_87 (Conv2D)              (None, 4, 4, 256)    1179904     concatenate_17[0][0]             \n",
      "__________________________________________________________________________________________________\n",
      "conv2d_88 (Conv2D)              (None, 4, 4, 256)    590080      conv2d_87[0][0]                  \n",
      "__________________________________________________________________________________________________\n",
      "conv2d_transpose_18 (Conv2DTran (None, 8, 8, 128)    131200      conv2d_88[0][0]                  \n",
      "__________________________________________________________________________________________________\n",
      "concatenate_18 (Concatenate)    (None, 8, 8, 256)    0           conv2d_transpose_18[0][0]        \n",
      "                                                                 conv2d_82[0][0]                  \n",
      "__________________________________________________________________________________________________\n",
      "conv2d_89 (Conv2D)              (None, 8, 8, 128)    295040      concatenate_18[0][0]             \n",
      "__________________________________________________________________________________________________\n",
      "conv2d_90 (Conv2D)              (None, 8, 8, 128)    147584      conv2d_89[0][0]                  \n",
      "__________________________________________________________________________________________________\n",
      "conv2d_transpose_19 (Conv2DTran (None, 16, 16, 64)   32832       conv2d_90[0][0]                  \n",
      "__________________________________________________________________________________________________\n",
      "concatenate_19 (Concatenate)    (None, 16, 16, 128)  0           conv2d_transpose_19[0][0]        \n",
      "                                                                 conv2d_80[0][0]                  \n",
      "__________________________________________________________________________________________________\n",
      "conv2d_91 (Conv2D)              (None, 16, 16, 64)   73792       concatenate_19[0][0]             \n",
      "__________________________________________________________________________________________________\n",
      "conv2d_92 (Conv2D)              (None, 16, 16, 64)   36928       conv2d_91[0][0]                  \n",
      "__________________________________________________________________________________________________\n",
      "conv2d_transpose_20 (Conv2DTran (None, 32, 32, 32)   8224        conv2d_92[0][0]                  \n",
      "__________________________________________________________________________________________________\n",
      "concatenate_20 (Concatenate)    (None, 32, 32, 64)   0           conv2d_transpose_20[0][0]        \n",
      "                                                                 conv2d_78[0][0]                  \n",
      "__________________________________________________________________________________________________\n",
      "conv2d_93 (Conv2D)              (None, 32, 32, 32)   18464       concatenate_20[0][0]             \n",
      "__________________________________________________________________________________________________\n",
      "conv2d_94 (Conv2D)              (None, 32, 32, 32)   9248        conv2d_93[0][0]                  \n",
      "__________________________________________________________________________________________________\n",
      "conv2d_95 (Conv2D)              (None, 32, 32, 4)    132         conv2d_94[0][0]                  \n",
      "==================================================================================================\n",
      "Total params: 7,759,620\n",
      "Trainable params: 7,759,620\n",
      "Non-trainable params: 0\n",
      "__________________________________________________________________________________________________\n"
     ]
    }
   ],
   "source": [
    "model = get_unet(H, W, 1)\n",
    "model.summary()"
   ]
  },
  {
   "cell_type": "code",
   "execution_count": 133,
   "metadata": {},
   "outputs": [
    {
     "name": "stdout",
     "output_type": "stream",
     "text": [
      "Learning Rate: 1e-06\n",
      "Epoch 1/1\n",
      "100/100 [==============================] - 37s 368ms/step - loss: 0.6930 - dice_coef: 0.0020 - jaccard: 0.0142 - acc: 0.8554\n",
      "Learning Rate: 1e-05\n",
      "Epoch 1/1\n",
      "100/100 [==============================] - 37s 365ms/step - loss: 0.6879 - dice_coef: 0.0020 - jaccard: 3.2390e-07 - acc: 0.9303\n",
      "Learning Rate: 0.0001\n",
      "Epoch 1/1\n",
      "100/100 [==============================] - 36s 359ms/step - loss: 0.0533 - dice_coef: 0.0192 - jaccard: 0.8600 - acc: 0.9359\n",
      "Learning Rate: 0.001\n",
      "Epoch 1/1\n",
      "100/100 [==============================] - 33s 335ms/step - loss: 0.0157 - dice_coef: 0.0205 - jaccard: 1.0000 - acc: 0.9363\n",
      "Learning Rate: 0.01\n",
      "Epoch 1/1\n",
      "100/100 [==============================] - 34s 337ms/step - loss: 0.0157 - dice_coef: 0.0205 - jaccard: 1.0000 - acc: 0.9364\n"
     ]
    }
   ],
   "source": [
    "lrs = [1e-6, 1e-5, 1e-4, 1e-3, 1e-2]\n",
    "for lr in lrs:\n",
    "    print(f'Learning Rate: {lr}')\n",
    "    K.set_value(model.optimizer.lr, lr)\n",
    "    model.fit_generator(\n",
    "        train_generator,\n",
    "        steps_per_epoch=100,\n",
    "        epochs=1\n",
    "    )"
   ]
  },
  {
   "cell_type": "code",
   "execution_count": 135,
   "metadata": {},
   "outputs": [],
   "source": [
    "model = get_unet(H, W, 1)\n",
    "tensorboard = TensorBoardLogger(log_name='UNET-64')"
   ]
  },
  {
   "cell_type": "code",
   "execution_count": 136,
   "metadata": {
    "collapsed": true
   },
   "outputs": [],
   "source": [
    "# model.load_weights('checkpoints/unet-64.h5')"
   ]
  },
  {
   "cell_type": "code",
   "execution_count": 137,
   "metadata": {
    "collapsed": true
   },
   "outputs": [],
   "source": [
    "K.set_value(model.optimizer.lr, 1e-4)"
   ]
  },
  {
   "cell_type": "code",
   "execution_count": 146,
   "metadata": {
    "collapsed": true
   },
   "outputs": [],
   "source": [
    "fit_args = dict(\n",
    "    generator=train_generator,\n",
    "    steps_per_epoch=200,\n",
    "    callbacks=[tensorboard],\n",
    "    validation_data=val_generator,\n",
    "    validation_steps=50,\n",
    "    workers=6,\n",
    "    epochs=10,\n",
    ")"
   ]
  },
  {
   "cell_type": "code",
   "execution_count": 147,
   "metadata": {
    "scrolled": true
   },
   "outputs": [
    {
     "name": "stdout",
     "output_type": "stream",
     "text": [
      "Epoch 1/10\n",
      "200/200 [==============================] - 39s 195ms/step - loss: 0.0106 - dice_coef: 0.0246 - jaccard: 1.0000 - acc: 0.9363 - val_loss: 0.0105 - val_dice_coef: 0.0261 - val_jaccard: 2.5000e-06 - val_acc: 0.9990\n",
      "Epoch 2/10\n",
      "200/200 [==============================] - 37s 186ms/step - loss: 0.0106 - dice_coef: 0.0246 - jaccard: 1.0000 - acc: 0.9363 - val_loss: 0.0105 - val_dice_coef: 0.0273 - val_jaccard: 2.5000e-06 - val_acc: 0.9990\n",
      "Epoch 3/10\n",
      "200/200 [==============================] - 37s 186ms/step - loss: 0.0105 - dice_coef: 0.0247 - jaccard: 1.0000 - acc: 0.9363 - val_loss: 0.0105 - val_dice_coef: 0.0286 - val_jaccard: 2.5000e-06 - val_acc: 0.9990\n",
      "Epoch 4/10\n",
      "200/200 [==============================] - 38s 191ms/step - loss: 0.0106 - dice_coef: 0.0246 - jaccard: 1.0000 - acc: 0.9362 - val_loss: 0.0105 - val_dice_coef: 0.0268 - val_jaccard: 2.5000e-06 - val_acc: 0.9990\n",
      "Epoch 5/10\n",
      "200/200 [==============================] - 38s 190ms/step - loss: 0.0105 - dice_coef: 0.0247 - jaccard: 1.0000 - acc: 0.9364 - val_loss: 0.0105 - val_dice_coef: 0.0275 - val_jaccard: 2.5000e-06 - val_acc: 0.9990\n",
      "Epoch 6/10\n",
      "200/200 [==============================] - 38s 188ms/step - loss: 0.0105 - dice_coef: 0.0247 - jaccard: 1.0000 - acc: 0.9363 - val_loss: 0.0105 - val_dice_coef: 0.0276 - val_jaccard: 2.5000e-06 - val_acc: 0.9990\n",
      "Epoch 7/10\n",
      "200/200 [==============================] - 38s 188ms/step - loss: 0.0105 - dice_coef: 0.0247 - jaccard: 1.0000 - acc: 0.9364 - val_loss: 0.0105 - val_dice_coef: 0.0276 - val_jaccard: 2.5000e-06 - val_acc: 0.9990\n",
      "Epoch 8/10\n",
      "200/200 [==============================] - 38s 188ms/step - loss: 0.0105 - dice_coef: 0.0246 - jaccard: 1.0000 - acc: 0.9363 - val_loss: 0.0105 - val_dice_coef: 0.0265 - val_jaccard: 2.5000e-06 - val_acc: 0.9990\n",
      "Epoch 9/10\n",
      "200/200 [==============================] - 38s 189ms/step - loss: 0.0105 - dice_coef: 0.0248 - jaccard: 1.0000 - acc: 0.9364 - val_loss: 0.0105 - val_dice_coef: 0.0294 - val_jaccard: 2.5000e-06 - val_acc: 0.9990\n",
      "Epoch 10/10\n",
      "200/200 [==============================] - 38s 191ms/step - loss: 0.0105 - dice_coef: 0.0247 - jaccard: 1.0000 - acc: 0.9363 - val_loss: 0.0105 - val_dice_coef: 0.0268 - val_jaccard: 2.5000e-06 - val_acc: 0.9990\n"
     ]
    },
    {
     "data": {
      "text/plain": [
       "<keras.callbacks.History at 0x7f1b6d4d23c8>"
      ]
     },
     "execution_count": 147,
     "metadata": {},
     "output_type": "execute_result"
    }
   ],
   "source": [
    "model.fit_generator(**fit_args)"
   ]
  },
  {
   "cell_type": "code",
   "execution_count": 148,
   "metadata": {},
   "outputs": [
    {
     "data": {
      "image/png": "[encoded data removed]",
      "text/plain": [
       "<matplotlib.figure.Figure at 0x7f1b72cac550>"
      ]
     },
     "metadata": {},
     "output_type": "display_data"
    }
   ],
   "source": [
    "run_test(model)"
   ]
  },
  {
   "cell_type": "code",
   "execution_count": null,
   "metadata": {
    "collapsed": true
   },
   "outputs": [],
   "source": [
    "model.save_weights('checkpoints/unet-64.h5')"
   ]
  },
  {
   "cell_type": "code",
   "execution_count": null,
   "metadata": {
    "collapsed": true
   },
   "outputs": [],
   "source": [
    "run_test(H, W, model)"
   ]
  },
  {
   "cell_type": "code",
   "execution_count": null,
   "metadata": {
    "collapsed": true
   },
   "outputs": [],
   "source": []
  }
 ],
 "metadata": {
  "kernelspec": {
   "display_name": "Python 3",
   "language": "python",
   "name": "python3"
  },
  "language_info": {
   "codemirror_mode": {
    "name": "ipython",
    "version": 3
   },
   "file_extension": ".py",
   "mimetype": "text/x-python",
   "name": "python",
   "nbconvert_exporter": "python",
   "pygments_lexer": "ipython3",
   "version": "3.6.2"
  }
 },
 "nbformat": 4,
 "nbformat_minor": 2
}
